{
 "cells": [
  {
   "cell_type": "code",
   "execution_count": 50,
   "metadata": {},
   "outputs": [],
   "source": [
    "import quandl\n",
    "\n",
    "quandl.ApiConfig.api_key=\"Mev5v8Rr-58sWDopyvgh\"\n",
    "mydata = quandl.get(\"WIKI/F\")"
   ]
  },
  {
   "cell_type": "code",
   "execution_count": 161,
   "metadata": {
    "scrolled": true
   },
   "outputs": [
    {
     "data": {
      "text/html": [
       "<div>\n",
       "<style>\n",
       "    .dataframe thead tr:only-child th {\n",
       "        text-align: right;\n",
       "    }\n",
       "\n",
       "    .dataframe thead th {\n",
       "        text-align: left;\n",
       "    }\n",
       "\n",
       "    .dataframe tbody tr th {\n",
       "        vertical-align: top;\n",
       "    }\n",
       "</style>\n",
       "<table border=\"1\" class=\"dataframe\">\n",
       "  <thead>\n",
       "    <tr style=\"text-align: right;\">\n",
       "      <th></th>\n",
       "      <th>Open</th>\n",
       "      <th>High</th>\n",
       "      <th>Low</th>\n",
       "      <th>Close</th>\n",
       "      <th>Volume</th>\n",
       "      <th>Ex-Dividend</th>\n",
       "      <th>Split Ratio</th>\n",
       "      <th>Adj. Open</th>\n",
       "      <th>Adj. High</th>\n",
       "      <th>Adj. Low</th>\n",
       "      <th>Adj. Close</th>\n",
       "      <th>Adj. Volume</th>\n",
       "    </tr>\n",
       "    <tr>\n",
       "      <th>Date</th>\n",
       "      <th></th>\n",
       "      <th></th>\n",
       "      <th></th>\n",
       "      <th></th>\n",
       "      <th></th>\n",
       "      <th></th>\n",
       "      <th></th>\n",
       "      <th></th>\n",
       "      <th></th>\n",
       "      <th></th>\n",
       "      <th></th>\n",
       "      <th></th>\n",
       "    </tr>\n",
       "  </thead>\n",
       "  <tbody>\n",
       "    <tr>\n",
       "      <th>1972-06-01</th>\n",
       "      <td>66.91</td>\n",
       "      <td>67.00</td>\n",
       "      <td>66.25</td>\n",
       "      <td>66.38</td>\n",
       "      <td>61628.0</td>\n",
       "      <td>0.0</td>\n",
       "      <td>1.0</td>\n",
       "      <td>0.715736</td>\n",
       "      <td>0.716699</td>\n",
       "      <td>0.708676</td>\n",
       "      <td>0.710067</td>\n",
       "      <td>1.089198e+06</td>\n",
       "    </tr>\n",
       "    <tr>\n",
       "      <th>1972-06-02</th>\n",
       "      <td>66.38</td>\n",
       "      <td>67.00</td>\n",
       "      <td>66.00</td>\n",
       "      <td>66.25</td>\n",
       "      <td>66398.0</td>\n",
       "      <td>0.0</td>\n",
       "      <td>1.0</td>\n",
       "      <td>0.710067</td>\n",
       "      <td>0.716699</td>\n",
       "      <td>0.706002</td>\n",
       "      <td>0.708676</td>\n",
       "      <td>1.173502e+06</td>\n",
       "    </tr>\n",
       "    <tr>\n",
       "      <th>1972-06-05</th>\n",
       "      <td>66.25</td>\n",
       "      <td>66.88</td>\n",
       "      <td>66.00</td>\n",
       "      <td>66.25</td>\n",
       "      <td>294680.0</td>\n",
       "      <td>0.0</td>\n",
       "      <td>1.0</td>\n",
       "      <td>0.708676</td>\n",
       "      <td>0.715415</td>\n",
       "      <td>0.706002</td>\n",
       "      <td>0.708676</td>\n",
       "      <td>5.208101e+06</td>\n",
       "    </tr>\n",
       "    <tr>\n",
       "      <th>1972-06-06</th>\n",
       "      <td>66.25</td>\n",
       "      <td>66.50</td>\n",
       "      <td>65.25</td>\n",
       "      <td>65.50</td>\n",
       "      <td>80424.0</td>\n",
       "      <td>0.0</td>\n",
       "      <td>1.0</td>\n",
       "      <td>0.708676</td>\n",
       "      <td>0.711350</td>\n",
       "      <td>0.697979</td>\n",
       "      <td>0.700653</td>\n",
       "      <td>1.421394e+06</td>\n",
       "    </tr>\n",
       "    <tr>\n",
       "      <th>1972-06-07</th>\n",
       "      <td>65.50</td>\n",
       "      <td>65.88</td>\n",
       "      <td>65.13</td>\n",
       "      <td>65.13</td>\n",
       "      <td>38011.0</td>\n",
       "      <td>0.0</td>\n",
       "      <td>1.0</td>\n",
       "      <td>0.700653</td>\n",
       "      <td>0.704718</td>\n",
       "      <td>0.696695</td>\n",
       "      <td>0.696695</td>\n",
       "      <td>6.717969e+05</td>\n",
       "    </tr>\n",
       "  </tbody>\n",
       "</table>\n",
       "</div>"
      ],
      "text/plain": [
       "             Open   High    Low  Close    Volume  Ex-Dividend  Split Ratio  \\\n",
       "Date                                                                         \n",
       "1972-06-01  66.91  67.00  66.25  66.38   61628.0          0.0          1.0   \n",
       "1972-06-02  66.38  67.00  66.00  66.25   66398.0          0.0          1.0   \n",
       "1972-06-05  66.25  66.88  66.00  66.25  294680.0          0.0          1.0   \n",
       "1972-06-06  66.25  66.50  65.25  65.50   80424.0          0.0          1.0   \n",
       "1972-06-07  65.50  65.88  65.13  65.13   38011.0          0.0          1.0   \n",
       "\n",
       "            Adj. Open  Adj. High  Adj. Low  Adj. Close   Adj. Volume  \n",
       "Date                                                                  \n",
       "1972-06-01   0.715736   0.716699  0.708676    0.710067  1.089198e+06  \n",
       "1972-06-02   0.710067   0.716699  0.706002    0.708676  1.173502e+06  \n",
       "1972-06-05   0.708676   0.715415  0.706002    0.708676  5.208101e+06  \n",
       "1972-06-06   0.708676   0.711350  0.697979    0.700653  1.421394e+06  \n",
       "1972-06-07   0.700653   0.704718  0.696695    0.696695  6.717969e+05  "
      ]
     },
     "execution_count": 161,
     "metadata": {},
     "output_type": "execute_result"
    }
   ],
   "source": [
    "mydata.head()"
   ]
  },
  {
   "cell_type": "code",
   "execution_count": 167,
   "metadata": {
    "scrolled": true
   },
   "outputs": [
    {
     "name": "stdout",
     "output_type": "stream",
     "text": [
      "   var1(t-1)  var2(t-1)  var3(t-1)  var4(t-1)  var5(t-1)  var6(t-1)  \\\n",
      "1   0.592646   0.589268   0.594496   0.590015   0.000108        0.0   \n",
      "2   0.587858   0.589268   0.592218   0.588838   0.000117        0.0   \n",
      "3   0.586684   0.588188   0.592218   0.588838   0.000539        0.0   \n",
      "4   0.586684   0.584766   0.585384   0.582042   0.000143        0.0   \n",
      "5   0.579908   0.579184   0.584290   0.578690   0.000064        0.0   \n",
      "\n",
      "   var7(t-1)  var8(t-1)  var9(t-1)  var10(t-1)  var11(t-1)  var12(t-1)  \\\n",
      "1        0.0   0.024615   0.024265    0.025149    0.024316    0.001907   \n",
      "2        0.0   0.024338   0.024265    0.025014    0.024248    0.002063   \n",
      "3        0.0   0.024270   0.024203    0.025014    0.024248    0.009519   \n",
      "4        0.0   0.024270   0.024007    0.024609    0.023856    0.002521   \n",
      "5        0.0   0.023877   0.023687    0.024544    0.023662    0.001136   \n",
      "\n",
      "    var1(t)  \n",
      "1  0.587858  \n",
      "2  0.586684  \n",
      "3  0.586684  \n",
      "4  0.579908  \n",
      "5  0.576565  \n"
     ]
    }
   ],
   "source": [
    "from math import sqrt\n",
    "from numpy import concatenate\n",
    "from matplotlib import pyplot\n",
    "from pandas import read_csv\n",
    "from pandas import DataFrame\n",
    "from pandas import concat\n",
    "from sklearn.preprocessing import MinMaxScaler\n",
    "from sklearn.preprocessing import LabelEncoder\n",
    "from sklearn.metrics import mean_squared_error\n",
    "from keras.models import Sequential\n",
    "from keras.layers import Dense\n",
    "from keras.layers import LSTM\n",
    " \n",
    "# convert series to supervised learning\n",
    "def series_to_supervised(data, n_in=1, n_out=1, dropnan=True):\n",
    "\tn_vars = 1 if type(data) is list else data.shape[1]\n",
    "\tdf = DataFrame(data)\n",
    "\tcols, names = list(), list()\n",
    "\t# input sequence (t-n, ... t-1)\n",
    "\tfor i in range(n_in, 0, -1):\n",
    "\t\tcols.append(df.shift(i))\n",
    "\t\tnames += [('var%d(t-%d)' % (j+1, i)) for j in range(n_vars)]\n",
    "\t# forecast sequence (t, t+1, ... t+n)\n",
    "\tfor i in range(0, n_out):\n",
    "\t\tcols.append(df.shift(-i))\n",
    "\t\tif i == 0:\n",
    "\t\t\tnames += [('var%d(t)' % (j+1)) for j in range(n_vars)]\n",
    "\t\telse:\n",
    "\t\t\tnames += [('var%d(t+%d)' % (j+1, i)) for j in range(n_vars)]\n",
    "\t# put it all together\n",
    "\tagg = concat(cols, axis=1)\n",
    "\tagg.columns = names\n",
    "\t# drop rows with NaN values\n",
    "\tif dropnan:\n",
    "\t\tagg.dropna(inplace=True)\n",
    "\treturn agg\n",
    "\n",
    "# load dataset\n",
    "#dataset = read_csv('pollution.csv', header=0, index_col=0)\n",
    "values = mydata.values\n",
    "# integer encode direction\n",
    "#encoder = LabelEncoder()\n",
    "#values[:,4] = encoder.fit_transform(values[:,4])\n",
    "# ensure all data is float\n",
    "values = values.astype('float32')\n",
    "# normalize features\n",
    "scaler = MinMaxScaler(feature_range=(0, 1))\n",
    "scaled = scaler.fit_transform(values)\n",
    "# frame as supervised learning\n",
    "reframed = series_to_supervised(scaled, 1, 1)\n",
    "# drop columns we don't want to predict\n",
    "reframed.drop(reframed.columns[[13,14,15,16,17,18,19,20,21,22,23]], axis=1, inplace=True)\n",
    "print(reframed.head())"
   ]
  },
  {
   "cell_type": "code",
   "execution_count": 168,
   "metadata": {},
   "outputs": [
    {
     "name": "stdout",
     "output_type": "stream",
     "text": [
      "(7741, 1, 12) (7741,) (3814, 1, 12) (3814,)\n"
     ]
    }
   ],
   "source": [
    "# split into train and test sets\n",
    "values = reframed.values\n",
    "train_size = int(len(values) * 0.67)\n",
    "test_size = len(values) - train_size\n",
    "train, test = values[0:train_size,:], values[train_size:len(values),:]\n",
    "\n",
    "# split into input and outputs\n",
    "train_X, train_y = train[:, :-1], train[:, -1]\n",
    "test_X, test_y = test[:, :-1], test[:, -1]\n",
    "# reshape input to be 3D [samples, timesteps, features]\n",
    "train_X = train_X.reshape((train_X.shape[0], 1, train_X.shape[1]))\n",
    "test_X = test_X.reshape((test_X.shape[0], 1, test_X.shape[1]))\n",
    "print(train_X.shape, train_y.shape, test_X.shape, test_y.shape)"
   ]
  },
  {
   "cell_type": "code",
   "execution_count": 169,
   "metadata": {
    "scrolled": true
   },
   "outputs": [
    {
     "name": "stdout",
     "output_type": "stream",
     "text": [
      "Train on 7741 samples, validate on 3814 samples\n",
      "Epoch 1/5\n",
      " - 1s - loss: 0.1509 - val_loss: 0.1199\n",
      "Epoch 2/5\n",
      " - 0s - loss: 0.0510 - val_loss: 0.0434\n",
      "Epoch 3/5\n",
      " - 0s - loss: 0.0253 - val_loss: 0.0204\n",
      "Epoch 4/5\n",
      " - 0s - loss: 0.0157 - val_loss: 0.0186\n",
      "Epoch 5/5\n",
      " - 0s - loss: 0.0144 - val_loss: 0.0206\n"
     ]
    },
    {
     "data": {
      "image/png": "[encoded data removed]",
      "text/plain": [
       "<matplotlib.figure.Figure at 0x17a5765def0>"
      ]
     },
     "metadata": {},
     "output_type": "display_data"
    }
   ],
   "source": [
    "# design network\n",
    "model = Sequential()\n",
    "model.add(LSTM(50, input_shape=(train_X.shape[1], train_X.shape[2])))\n",
    "model.add(Dense(1))\n",
    "model.compile(loss='mae', optimizer='adam')\n",
    "# fit network\n",
    "history = model.fit(train_X, train_y, epochs=5, batch_size=72, validation_data=(test_X, test_y), verbose=2, shuffle=False)\n",
    "# plot history\n",
    "pyplot.plot(history.history['loss'], label='train')\n",
    "pyplot.plot(history.history['val_loss'], label='test')\n",
    "pyplot.legend()\n",
    "pyplot.show()"
   ]
  },
  {
   "cell_type": "code",
   "execution_count": 170,
   "metadata": {
    "scrolled": false
   },
   "outputs": [
    {
     "name": "stdout",
     "output_type": "stream",
     "text": [
      "Test RMSE: 2.427\n"
     ]
    }
   ],
   "source": [
    "# make a prediction\n",
    "yhat = model.predict(test_X)\n",
    "test_X = test_X.reshape((test_X.shape[0], test_X.shape[2]))\n",
    "# invert scaling for forecast\n",
    "inv_yhat = concatenate((yhat, test_X[:, 1:]), axis=1)\n",
    "inv_yhat = scaler.inverse_transform(inv_yhat)\n",
    "inv_yhat = inv_yhat[:,0]\n",
    "# invert scaling for actual\n",
    "test_y = test_y.reshape((len(test_y), 1))\n",
    "inv_y = concatenate((test_y, test_X[:, 1:]), axis=1)\n",
    "inv_y = scaler.inverse_transform(inv_y)\n",
    "inv_y = inv_y[:,0]\n",
    "# calculate RMSE\n",
    "rmse = sqrt(mean_squared_error(inv_y, inv_yhat))\n",
    "print('Test RMSE: %.3f' % rmse)"
   ]
  },
  {
   "cell_type": "code",
   "execution_count": 71,
   "metadata": {},
   "outputs": [
    {
     "data": {
      "text/html": [
       "<div>\n",
       "<style>\n",
       "    .dataframe thead tr:only-child th {\n",
       "        text-align: right;\n",
       "    }\n",
       "\n",
       "    .dataframe thead th {\n",
       "        text-align: left;\n",
       "    }\n",
       "\n",
       "    .dataframe tbody tr th {\n",
       "        vertical-align: top;\n",
       "    }\n",
       "</style>\n",
       "<table border=\"1\" class=\"dataframe\">\n",
       "  <thead>\n",
       "    <tr style=\"text-align: right;\">\n",
       "      <th></th>\n",
       "      <th>Date</th>\n",
       "      <th>Open</th>\n",
       "      <th>High</th>\n",
       "      <th>Low</th>\n",
       "      <th>Close</th>\n",
       "      <th>Volume</th>\n",
       "      <th>Ex-Dividend</th>\n",
       "      <th>Split Ratio</th>\n",
       "      <th>Adj. Open</th>\n",
       "      <th>Adj. High</th>\n",
       "      <th>Adj. Low</th>\n",
       "      <th>Adj. Close</th>\n",
       "      <th>Adj. Volume</th>\n",
       "    </tr>\n",
       "  </thead>\n",
       "  <tbody>\n",
       "    <tr>\n",
       "      <th>0</th>\n",
       "      <td>1972-06-01</td>\n",
       "      <td>66.91</td>\n",
       "      <td>67.00</td>\n",
       "      <td>66.25</td>\n",
       "      <td>66.38</td>\n",
       "      <td>61628.0</td>\n",
       "      <td>0.0</td>\n",
       "      <td>1.0</td>\n",
       "      <td>0.715736</td>\n",
       "      <td>0.716699</td>\n",
       "      <td>0.708676</td>\n",
       "      <td>0.710067</td>\n",
       "      <td>1.089198e+06</td>\n",
       "    </tr>\n",
       "    <tr>\n",
       "      <th>1</th>\n",
       "      <td>1972-06-02</td>\n",
       "      <td>66.38</td>\n",
       "      <td>67.00</td>\n",
       "      <td>66.00</td>\n",
       "      <td>66.25</td>\n",
       "      <td>66398.0</td>\n",
       "      <td>0.0</td>\n",
       "      <td>1.0</td>\n",
       "      <td>0.710067</td>\n",
       "      <td>0.716699</td>\n",
       "      <td>0.706002</td>\n",
       "      <td>0.708676</td>\n",
       "      <td>1.173502e+06</td>\n",
       "    </tr>\n",
       "    <tr>\n",
       "      <th>2</th>\n",
       "      <td>1972-06-05</td>\n",
       "      <td>66.25</td>\n",
       "      <td>66.88</td>\n",
       "      <td>66.00</td>\n",
       "      <td>66.25</td>\n",
       "      <td>294680.0</td>\n",
       "      <td>0.0</td>\n",
       "      <td>1.0</td>\n",
       "      <td>0.708676</td>\n",
       "      <td>0.715415</td>\n",
       "      <td>0.706002</td>\n",
       "      <td>0.708676</td>\n",
       "      <td>5.208101e+06</td>\n",
       "    </tr>\n",
       "    <tr>\n",
       "      <th>3</th>\n",
       "      <td>1972-06-06</td>\n",
       "      <td>66.25</td>\n",
       "      <td>66.50</td>\n",
       "      <td>65.25</td>\n",
       "      <td>65.50</td>\n",
       "      <td>80424.0</td>\n",
       "      <td>0.0</td>\n",
       "      <td>1.0</td>\n",
       "      <td>0.708676</td>\n",
       "      <td>0.711350</td>\n",
       "      <td>0.697979</td>\n",
       "      <td>0.700653</td>\n",
       "      <td>1.421394e+06</td>\n",
       "    </tr>\n",
       "    <tr>\n",
       "      <th>4</th>\n",
       "      <td>1972-06-07</td>\n",
       "      <td>65.50</td>\n",
       "      <td>65.88</td>\n",
       "      <td>65.13</td>\n",
       "      <td>65.13</td>\n",
       "      <td>38011.0</td>\n",
       "      <td>0.0</td>\n",
       "      <td>1.0</td>\n",
       "      <td>0.700653</td>\n",
       "      <td>0.704718</td>\n",
       "      <td>0.696695</td>\n",
       "      <td>0.696695</td>\n",
       "      <td>6.717969e+05</td>\n",
       "    </tr>\n",
       "  </tbody>\n",
       "</table>\n",
       "</div>"
      ],
      "text/plain": [
       "        Date   Open   High    Low  Close    Volume  Ex-Dividend  Split Ratio  \\\n",
       "0 1972-06-01  66.91  67.00  66.25  66.38   61628.0          0.0          1.0   \n",
       "1 1972-06-02  66.38  67.00  66.00  66.25   66398.0          0.0          1.0   \n",
       "2 1972-06-05  66.25  66.88  66.00  66.25  294680.0          0.0          1.0   \n",
       "3 1972-06-06  66.25  66.50  65.25  65.50   80424.0          0.0          1.0   \n",
       "4 1972-06-07  65.50  65.88  65.13  65.13   38011.0          0.0          1.0   \n",
       "\n",
       "   Adj. Open  Adj. High  Adj. Low  Adj. Close   Adj. Volume  \n",
       "0   0.715736   0.716699  0.708676    0.710067  1.089198e+06  \n",
       "1   0.710067   0.716699  0.706002    0.708676  1.173502e+06  \n",
       "2   0.708676   0.715415  0.706002    0.708676  5.208101e+06  \n",
       "3   0.708676   0.711350  0.697979    0.700653  1.421394e+06  \n",
       "4   0.700653   0.704718  0.696695    0.696695  6.717969e+05  "
      ]
     },
     "execution_count": 71,
     "metadata": {},
     "output_type": "execute_result"
    }
   ],
   "source": [
    "f=mydata.reset_index()\n",
    "f.head()"
   ]
  },
  {
   "cell_type": "code",
   "execution_count": 74,
   "metadata": {
    "scrolled": true
   },
   "outputs": [
    {
     "data": {
      "text/plain": [
       "dtype('<M8[ns]')"
      ]
     },
     "execution_count": 74,
     "metadata": {},
     "output_type": "execute_result"
    }
   ],
   "source": [
    "f['Date'].dtype"
   ]
  },
  {
   "cell_type": "code",
   "execution_count": 75,
   "metadata": {
    "scrolled": true
   },
   "outputs": [
    {
     "data": {
      "text/plain": [
       "True"
      ]
     },
     "execution_count": 75,
     "metadata": {},
     "output_type": "execute_result"
    }
   ],
   "source": [
    "import numpy as np\n",
    "np.dtype('datetime64[ns]') == np.dtype('<M8[ns]')"
   ]
  },
  {
   "cell_type": "code",
   "execution_count": null,
   "metadata": {
    "collapsed": true
   },
   "outputs": [],
   "source": []
  }
 ],
 "metadata": {
  "kernelspec": {
   "display_name": "Python [conda root]",
   "language": "python",
   "name": "conda-root-py"
  },
  "language_info": {
   "codemirror_mode": {
    "name": "ipython",
    "version": 3
   },
   "file_extension": ".py",
   "mimetype": "text/x-python",
   "name": "python",
   "nbconvert_exporter": "python",
   "pygments_lexer": "ipython3",
   "version": "3.6.2"
  }
 },
 "nbformat": 4,
 "nbformat_minor": 2
}
