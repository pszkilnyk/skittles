{
 "cells": [
  {
   "cell_type": "code",
   "execution_count": 1,
   "metadata": {
    "scrolled": true
   },
   "outputs": [
    {
     "data": {
      "text/html": [
       "<div>\n",
       "<style>\n",
       "    .dataframe thead tr:only-child th {\n",
       "        text-align: right;\n",
       "    }\n",
       "\n",
       "    .dataframe thead th {\n",
       "        text-align: left;\n",
       "    }\n",
       "\n",
       "    .dataframe tbody tr th {\n",
       "        vertical-align: top;\n",
       "    }\n",
       "</style>\n",
       "<table border=\"1\" class=\"dataframe\">\n",
       "  <thead>\n",
       "    <tr style=\"text-align: right;\">\n",
       "      <th></th>\n",
       "      <th>Open</th>\n",
       "      <th>High</th>\n",
       "      <th>Low</th>\n",
       "      <th>Close</th>\n",
       "    </tr>\n",
       "    <tr>\n",
       "      <th>Date</th>\n",
       "      <th></th>\n",
       "      <th></th>\n",
       "      <th></th>\n",
       "      <th></th>\n",
       "    </tr>\n",
       "  </thead>\n",
       "  <tbody>\n",
       "    <tr>\n",
       "      <th>1972-06-01</th>\n",
       "      <td>66.91</td>\n",
       "      <td>67.00</td>\n",
       "      <td>66.25</td>\n",
       "      <td>66.38</td>\n",
       "    </tr>\n",
       "    <tr>\n",
       "      <th>1972-06-02</th>\n",
       "      <td>66.38</td>\n",
       "      <td>67.00</td>\n",
       "      <td>66.00</td>\n",
       "      <td>66.25</td>\n",
       "    </tr>\n",
       "    <tr>\n",
       "      <th>1972-06-05</th>\n",
       "      <td>66.25</td>\n",
       "      <td>66.88</td>\n",
       "      <td>66.00</td>\n",
       "      <td>66.25</td>\n",
       "    </tr>\n",
       "    <tr>\n",
       "      <th>1972-06-06</th>\n",
       "      <td>66.25</td>\n",
       "      <td>66.50</td>\n",
       "      <td>65.25</td>\n",
       "      <td>65.50</td>\n",
       "    </tr>\n",
       "    <tr>\n",
       "      <th>1972-06-07</th>\n",
       "      <td>65.50</td>\n",
       "      <td>65.88</td>\n",
       "      <td>65.13</td>\n",
       "      <td>65.13</td>\n",
       "    </tr>\n",
       "  </tbody>\n",
       "</table>\n",
       "</div>"
      ],
      "text/plain": [
       "             Open   High    Low  Close\n",
       "Date                                  \n",
       "1972-06-01  66.91  67.00  66.25  66.38\n",
       "1972-06-02  66.38  67.00  66.00  66.25\n",
       "1972-06-05  66.25  66.88  66.00  66.25\n",
       "1972-06-06  66.25  66.50  65.25  65.50\n",
       "1972-06-07  65.50  65.88  65.13  65.13"
      ]
     },
     "execution_count": 1,
     "metadata": {},
     "output_type": "execute_result"
    }
   ],
   "source": [
    "# LSTM for Ford\n",
    "import quandl\n",
    "quandl.ApiConfig.api_key=\"Mev5v8Rr-58sWDopyvgh\"\n",
    "mydata = quandl.get(\"WIKI/F\")\n",
    "mydata = mydata.drop(['Volume','Ex-Dividend', 'Split Ratio', 'Adj. Open', 'Adj. High', 'Adj. Low', 'Adj. Close', 'Adj. Volume'], axis=1)\n",
    "mydata.head()"
   ]
  },
  {
   "cell_type": "code",
   "execution_count": 70,
   "metadata": {
    "scrolled": true
   },
   "outputs": [
    {
     "name": "stdout",
     "output_type": "stream",
     "text": [
      "    var1(t-1)  var2(t-1)  var3(t-1)  var4(t-1)  var1(t+6)\n",
      "1    0.592646   0.589268   0.594496   0.590015   0.568615\n",
      "2    0.587858   0.589268   0.592218   0.588838   0.568615\n",
      "3    0.586684   0.588188   0.592218   0.588838   0.575391\n",
      "4    0.586684   0.584766   0.585384   0.582042   0.582166\n",
      "5    0.579908   0.579184   0.584290   0.578690   0.579908\n",
      "6    0.576565   0.576933   0.579734   0.574160   0.582166\n",
      "7    0.572048   0.569010   0.564881   0.570717   0.578824\n",
      "8    0.568615   0.571261   0.571715   0.570717   0.581082\n",
      "9    0.568615   0.570181   0.576271   0.575247   0.574307\n",
      "10   0.575391   0.583686   0.583106   0.584307   0.570874\n"
     ]
    }
   ],
   "source": [
    "from math import sqrt\n",
    "from numpy import concatenate\n",
    "from matplotlib import pyplot\n",
    "from pandas import DataFrame\n",
    "from pandas import concat\n",
    "from sklearn.preprocessing import MinMaxScaler\n",
    "from sklearn.metrics import mean_squared_error\n",
    "from keras.models import Sequential\n",
    "from keras.layers import Dense\n",
    "from keras.layers import LSTM\n",
    " \n",
    "# convert series to supervised learning\n",
    "# tutorial:https://machinelearningmastery.com/convert-time-series-supervised-learning-problem-python/\n",
    "def series_to_supervised(data, n_in=1, n_out=1, dropnan=True):\n",
    "    n_vars = 1 if type(data) is list else data.shape[1]\n",
    "    df = DataFrame(data)\n",
    "    cols, names = list(), list()\n",
    "    # input sequence (t-n, ... t-1)\n",
    "    for i in range(n_in, 0, -1):\n",
    "        cols.append(df.shift(i))\n",
    "        names += [('var%d(t-%d)' % (j+1, i)) for j in range(n_vars)]\n",
    "    # forecast sequence (t, t+1, ... t+n)\n",
    "    for i in range(0, n_out):\n",
    "        cols.append(df.shift(-i))\n",
    "        if i == 0:\n",
    "            names += [('var%d(t)' % (j+1)) for j in range(n_vars)]\n",
    "        else:\n",
    "            names += [('var%d(t+%d)' % (j+1, i)) for j in range(n_vars)]\n",
    "    # put it all together\n",
    "    agg = concat(cols, axis=1)\n",
    "    agg.columns = names\n",
    "    # drop rows with NaN values\n",
    "    if dropnan:\n",
    "        agg.dropna(inplace=True)\n",
    "    return agg\n",
    "\n",
    "# tutorial:https://machinelearningmastery.com/multivariate-time-series-forecasting-lstms-keras/\n",
    "# load\n",
    "values = mydata.values\n",
    "values = values.astype('float32')\n",
    "# normalize\n",
    "scaler = MinMaxScaler(feature_range=(0, 1))\n",
    "scaled = scaler.fit_transform(values)\n",
    "# frame as supervised learning\n",
    "reframed = series_to_supervised(scaled, 1, 7)\n",
    "# drop columns we don't want to predict\n",
    "reframed.drop(reframed.columns[[4,5,6,7,8,9,10,11,12,13,14,15,16,17,18,19,20,21,22,23,24,25,26,27,29,30,31]], axis=1, inplace=True)\n",
    "print(reframed.head(10))\n",
    "# predicting next day open as var1(t)"
   ]
  },
  {
   "cell_type": "code",
   "execution_count": 109,
   "metadata": {
    "scrolled": false
   },
   "outputs": [
    {
     "name": "stdout",
     "output_type": "stream",
     "text": [
      "(7737, 1, 4) (7737,) (3812, 1, 4) (3812,)\n"
     ]
    }
   ],
   "source": [
    "# split into train and tets\n",
    "values = reframed.values\n",
    "train_size = int(len(values) * 0.67)\n",
    "test_size = len(values) - train_size\n",
    "train, test = values[0:train_size,:], values[train_size:len(values),:]\n",
    "\n",
    "# split into input and outputs\n",
    "train_X, train_y = train[:, :-1], train[:, -1]\n",
    "test_X, test_y = test[:, :-1], test[:, -1]\n",
    "# reshape input to be 3D [samples, timesteps, features]\n",
    "train_X = train_X.reshape((train_X.shape[0], 1, train_X.shape[1]))\n",
    "test_X = test_X.reshape((test_X.shape[0], 1, test_X.shape[1]))\n",
    "print(train_X.shape, train_y.shape, test_X.shape, test_y.shape)"
   ]
  },
  {
   "cell_type": "code",
   "execution_count": 110,
   "metadata": {
    "scrolled": true
   },
   "outputs": [
    {
     "name": "stdout",
     "output_type": "stream",
     "text": [
      "Train on 7737 samples, validate on 3812 samples\n",
      "Epoch 1/10\n",
      " - 2s - loss: 0.1663 - val_loss: 0.1150\n",
      "Epoch 2/10\n",
      " - 0s - loss: 0.0433 - val_loss: 0.0717\n",
      "Epoch 3/10\n",
      " - 0s - loss: 0.0306 - val_loss: 0.0417\n",
      "Epoch 4/10\n",
      " - 0s - loss: 0.0194 - val_loss: 0.0192\n",
      "Epoch 5/10\n",
      " - 0s - loss: 0.0171 - val_loss: 0.0101\n",
      "Epoch 6/10\n",
      " - 0s - loss: 0.0168 - val_loss: 0.0086\n",
      "Epoch 7/10\n",
      " - 0s - loss: 0.0165 - val_loss: 0.0081\n",
      "Epoch 8/10\n",
      " - 0s - loss: 0.0164 - val_loss: 0.0074\n",
      "Epoch 9/10\n",
      " - 0s - loss: 0.0163 - val_loss: 0.0070\n",
      "Epoch 10/10\n",
      " - 0s - loss: 0.0162 - val_loss: 0.0065\n"
     ]
    },
    {
     "data": {
      "image/png": "[encoded data removed]",
      "text/plain": [
       "<matplotlib.figure.Figure at 0x231cb3f66d8>"
      ]
     },
     "metadata": {},
     "output_type": "display_data"
    }
   ],
   "source": [
    "# LSTM network\n",
    "model = Sequential()\n",
    "model.add(LSTM(50, input_shape=(train_X.shape[1], train_X.shape[2])))\n",
    "model.add(Dense(1))\n",
    "model.compile(loss='mae', optimizer='adam')\n",
    "# fit network\n",
    "history = model.fit(train_X, train_y, epochs=10, batch_size=100, validation_data=(test_X, test_y), verbose=2, shuffle=False)\n",
    "# plot history\n",
    "pyplot.plot(history.history['loss'], label='train')\n",
    "pyplot.plot(history.history['val_loss'], label='test')\n",
    "pyplot.legend()\n",
    "pyplot.show()"
   ]
  },
  {
   "cell_type": "code",
   "execution_count": 111,
   "metadata": {
    "scrolled": false
   },
   "outputs": [
    {
     "name": "stdout",
     "output_type": "stream",
     "text": [
      "Test RMSE: 0.894\n"
     ]
    }
   ],
   "source": [
    "# make a prediction\n",
    "yhat = model.predict(test_X)\n",
    "test_X = test_X.reshape((test_X.shape[0], test_X.shape[2]))\n",
    "# invert scaling for forecast\n",
    "inv_yhat = concatenate((yhat, test_X[:, 1:]), axis=1)\n",
    "inv_yhat = scaler.inverse_transform(inv_yhat)\n",
    "inv_yhat = inv_yhat[:,0]\n",
    "# invert scaling for actual\n",
    "test_y = test_y.reshape((len(test_y), 1))\n",
    "inv_y = concatenate((test_y, test_X[:, 1:]), axis=1)\n",
    "inv_y = scaler.inverse_transform(inv_y)\n",
    "inv_y = inv_y[:,0]\n",
    "# calculate RMSE \n",
    "rmse = sqrt(mean_squared_error(inv_y, inv_yhat))\n",
    "print('Test RMSE: %.3f' % rmse)"
   ]
  },
  {
   "cell_type": "code",
   "execution_count": 112,
   "metadata": {
    "scrolled": true
   },
   "outputs": [
    {
     "data": {
      "image/png": "[encoded data removed]",
      "text/plain": [
       "<matplotlib.figure.Figure at 0x231c87734e0>"
      ]
     },
     "metadata": {},
     "output_type": "display_data"
    }
   ],
   "source": [
    "# plot\n",
    "pyplot.plot(inv_yhat, label='forecast')\n",
    "pyplot.plot(inv_y, label='actual')\n",
    "pyplot.legend()\n",
    "pyplot.show()"
   ]
  },
  {
   "cell_type": "code",
   "execution_count": null,
   "metadata": {
    "collapsed": true
   },
   "outputs": [],
   "source": []
  },
  {
   "cell_type": "code",
   "execution_count": null,
   "metadata": {
    "collapsed": true
   },
   "outputs": [],
   "source": []
  },
  {
   "cell_type": "code",
   "execution_count": null,
   "metadata": {
    "collapsed": true
   },
   "outputs": [],
   "source": []
  }
 ],
 "metadata": {
  "kernelspec": {
   "display_name": "Python [conda root]",
   "language": "python",
   "name": "conda-root-py"
  },
  "language_info": {
   "codemirror_mode": {
    "name": "ipython",
    "version": 3
   },
   "file_extension": ".py",
   "mimetype": "text/x-python",
   "name": "python",
   "nbconvert_exporter": "python",
   "pygments_lexer": "ipython3",
   "version": "3.6.2"
  }
 },
 "nbformat": 4,
 "nbformat_minor": 2
}
