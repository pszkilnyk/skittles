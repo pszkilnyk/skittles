{
 "cells": [
  {
   "cell_type": "code",
   "execution_count": 1,
   "metadata": {
    "collapsed": true,
    "scrolled": true
   },
   "outputs": [],
   "source": [
    "import json\n",
    "import re\n",
    "import urllib.request\n",
    "import pandas as pd\n",
    "from urllib.request import urlopen\n",
    "\n",
    "base_url = \"https://www.kaggle.com/rankings.json?group=competitions&page=\"\n",
    "data2=[]\n",
    "n = 5\n",
    "for i in range(1, n+1):\n",
    " \n",
    "    response = urlopen(base_url + \"%d\" % i)\n",
    "    data = response.read()\n",
    "    data1 = str(data)\n",
    "    data2.append(data1)\n",
    "    \n",
    "#print(data2)"
   ]
  },
  {
   "cell_type": "code",
   "execution_count": 2,
   "metadata": {
    "collapsed": true
   },
   "outputs": [],
   "source": [
    "data3 = str(data2)"
   ]
  },
  {
   "cell_type": "code",
   "execution_count": 3,
   "metadata": {
    "collapsed": true
   },
   "outputs": [],
   "source": [
    " urls = (re.findall(r'userUrl(.*?)tier', data3))"
   ]
  },
  {
   "cell_type": "code",
   "execution_count": 4,
   "metadata": {},
   "outputs": [
    {
     "name": "stdout",
     "output_type": "stream",
     "text": [
      "['\":\"/titericz\",\"', '\":\"/kazanova\",\"', '\":\"/stasg7\",\"', '\":\"/bestfitting\",\"', '\":\"/mmueller\",\"', '\":\"/pengyan\",\"', '\":\"/utility\",\"', '\":\"/mjahrer\",\"', '\":\"/xiaozhouwang\",\"', '\":\"/raddar\",\"', '\":\"/zfturbo\",\"', '\":\"/speculation\",\"', '\":\"/shixw125\",\"', '\":\"/liaofz\",\"', '\":\"/confirm\",\"', '\":\"/alijs1\",\"', '\":\"/kylelee\",\"', '\":\"/psilogram\",\"', '\":\"/danielfg\",\"', '\":\"/mikeskim\",\"', '\":\"/sergeykozub\",\"', '\":\"/clustifier\",\"', '\":\"/jiweiliu\",\"', '\":\"/yinpeng\",\"', '\":\"/iglovikov\",\"', '\":\"/p233333\",\"', '\":\"/gmobaz\",\"', '\":\"/johnpateha\",\"', '\":\"/alexeynoskov\",\"', '\":\"/qwang88\",\"', '\":\"/bishwarup\",\"', '\":\"/ashhafez\",\"', '\":\"/mariofilho\",\"', '\":\"/sangxia\",\"', '\":\"/gaborfodor\",\"', '\":\"/seanjv\",\"', '\":\"/anlthms\",\"', '\":\"/bobutis\",\"', '\":\"/sushize\",\"', '\":\"/abhishek\",\"', '\":\"/nimashahbazi\",\"', '\":\"/medial\",\"', '\":\"/cpmpml\",\"', '\":\"/outrunner\",\"', '\":\"/alexxanderlarko\",\"', '\":\"/sudalairajkumar\",\"', '\":\"/plantsgo\",\"', '\":\"/qqgeogor\",\"', '\":\"/jtrotman\",\"', '\":\"/drknope\",\"', '\":\"/toshik\",\"', '\":\"/mathurinache\",\"', '\":\"/kelexu\",\"', '\":\"/ivanhoe\",\"', '\":\"/deeper\",\"', '\":\"/x0x0w1\",\"', '\":\"/ccccat\",\"', '\":\"/vlarine\",\"', '\":\"/zadrras\",\"', '\":\"/rsakata\",\"', '\":\"/carloshuertas\",\"', '\":\"/thousandvoices\",\"', '\":\"/u1234x1234\",\"', '\":\"/owenzhang1\",\"', '\":\"/willieliao\",\"', '\":\"/cubbus\",\"', '\":\"/mchahhou\",\"', '\":\"/alexryzhkov\",\"', '\":\"/asanakoev\",\"', '\":\"/aguschin\",\"', '\":\"/thakurrajanand\",\"', '\":\"/gertjac\",\"', '\":\"/dmitrylarko\",\"', '\":\"/mitiau\",\"', '\":\"/darraghdog\",\"', '\":\"/tunguz\",\"', '\":\"/jpmiller\",\"', '\":\"/tyi2000\",\"', '\":\"/tvdwiele\",\"', '\":\"/zhugds\",\"', '\":\"/breakfastpirate\",\"', '\":\"/newtohere\",\"', '\":\"/albuslaev\",\"', '\":\"/leustagos\",\"', '\":\"/mindcool\",\"', '\":\"/onodera\",\"', '\":\"/ckomaki\",\"', '\":\"/grt123\",\"', '\":\"/sasrdw\",\"', '\":\"/jturkewitz\",\"', '\":\"/lucienderubempre\",\"', '\":\"/rhinodaveb\",\"', '\":\"/liderchang\",\"', '\":\"/blindape\",\"', '\":\"/brandenkmurray\",\"', '\":\"/nedelko\",\"', '\":\"/abdulwahabkabani\",\"', '\":\"/naokazumizuta\",\"', '\":\"/tasha75\",\"', '\":\"/skylibrary\",\"']\n"
     ]
    }
   ],
   "source": [
    "print(urls)"
   ]
  },
  {
   "cell_type": "code",
   "execution_count": 5,
   "metadata": {
    "scrolled": true
   },
   "outputs": [
    {
     "data": {
      "text/html": [
       "<div>\n",
       "<style>\n",
       "    .dataframe thead tr:only-child th {\n",
       "        text-align: right;\n",
       "    }\n",
       "\n",
       "    .dataframe thead th {\n",
       "        text-align: left;\n",
       "    }\n",
       "\n",
       "    .dataframe tbody tr th {\n",
       "        vertical-align: top;\n",
       "    }\n",
       "</style>\n",
       "<table border=\"1\" class=\"dataframe\">\n",
       "  <thead>\n",
       "    <tr style=\"text-align: right;\">\n",
       "      <th></th>\n",
       "      <th>0</th>\n",
       "    </tr>\n",
       "  </thead>\n",
       "  <tbody>\n",
       "    <tr>\n",
       "      <th>0</th>\n",
       "      <td>\":\"/titericz\",\"</td>\n",
       "    </tr>\n",
       "    <tr>\n",
       "      <th>1</th>\n",
       "      <td>\":\"/kazanova\",\"</td>\n",
       "    </tr>\n",
       "    <tr>\n",
       "      <th>2</th>\n",
       "      <td>\":\"/stasg7\",\"</td>\n",
       "    </tr>\n",
       "    <tr>\n",
       "      <th>3</th>\n",
       "      <td>\":\"/bestfitting\",\"</td>\n",
       "    </tr>\n",
       "    <tr>\n",
       "      <th>4</th>\n",
       "      <td>\":\"/mmueller\",\"</td>\n",
       "    </tr>\n",
       "  </tbody>\n",
       "</table>\n",
       "</div>"
      ],
      "text/plain": [
       "                    0\n",
       "0     \":\"/titericz\",\"\n",
       "1     \":\"/kazanova\",\"\n",
       "2       \":\"/stasg7\",\"\n",
       "3  \":\"/bestfitting\",\"\n",
       "4     \":\"/mmueller\",\""
      ]
     },
     "execution_count": 5,
     "metadata": {},
     "output_type": "execute_result"
    }
   ],
   "source": [
    "urls1 = pd.DataFrame(urls)\n",
    "urls1.head()"
   ]
  },
  {
   "cell_type": "code",
   "execution_count": 6,
   "metadata": {},
   "outputs": [
    {
     "data": {
      "text/html": [
       "<div>\n",
       "<style>\n",
       "    .dataframe thead tr:only-child th {\n",
       "        text-align: right;\n",
       "    }\n",
       "\n",
       "    .dataframe thead th {\n",
       "        text-align: left;\n",
       "    }\n",
       "\n",
       "    .dataframe tbody tr th {\n",
       "        vertical-align: top;\n",
       "    }\n",
       "</style>\n",
       "<table border=\"1\" class=\"dataframe\">\n",
       "  <thead>\n",
       "    <tr style=\"text-align: right;\">\n",
       "      <th></th>\n",
       "      <th>urls</th>\n",
       "    </tr>\n",
       "  </thead>\n",
       "  <tbody>\n",
       "    <tr>\n",
       "      <th>0</th>\n",
       "      <td>\":\"/titericz\",\"</td>\n",
       "    </tr>\n",
       "    <tr>\n",
       "      <th>1</th>\n",
       "      <td>\":\"/kazanova\",\"</td>\n",
       "    </tr>\n",
       "    <tr>\n",
       "      <th>2</th>\n",
       "      <td>\":\"/stasg7\",\"</td>\n",
       "    </tr>\n",
       "    <tr>\n",
       "      <th>3</th>\n",
       "      <td>\":\"/bestfitting\",\"</td>\n",
       "    </tr>\n",
       "    <tr>\n",
       "      <th>4</th>\n",
       "      <td>\":\"/mmueller\",\"</td>\n",
       "    </tr>\n",
       "  </tbody>\n",
       "</table>\n",
       "</div>"
      ],
      "text/plain": [
       "                 urls\n",
       "0     \":\"/titericz\",\"\n",
       "1     \":\"/kazanova\",\"\n",
       "2       \":\"/stasg7\",\"\n",
       "3  \":\"/bestfitting\",\"\n",
       "4     \":\"/mmueller\",\""
      ]
     },
     "execution_count": 6,
     "metadata": {},
     "output_type": "execute_result"
    }
   ],
   "source": [
    "urls1.columns = ['urls']\n",
    "urls1.head()"
   ]
  },
  {
   "cell_type": "code",
   "execution_count": 7,
   "metadata": {},
   "outputs": [
    {
     "data": {
      "text/html": [
       "<div>\n",
       "<style>\n",
       "    .dataframe thead tr:only-child th {\n",
       "        text-align: right;\n",
       "    }\n",
       "\n",
       "    .dataframe thead th {\n",
       "        text-align: left;\n",
       "    }\n",
       "\n",
       "    .dataframe tbody tr th {\n",
       "        vertical-align: top;\n",
       "    }\n",
       "</style>\n",
       "<table border=\"1\" class=\"dataframe\">\n",
       "  <thead>\n",
       "    <tr style=\"text-align: right;\">\n",
       "      <th></th>\n",
       "      <th>urls</th>\n",
       "    </tr>\n",
       "  </thead>\n",
       "  <tbody>\n",
       "    <tr>\n",
       "      <th>0</th>\n",
       "      <td>/titericz</td>\n",
       "    </tr>\n",
       "    <tr>\n",
       "      <th>1</th>\n",
       "      <td>/kazanova</td>\n",
       "    </tr>\n",
       "    <tr>\n",
       "      <th>2</th>\n",
       "      <td>/stasg7</td>\n",
       "    </tr>\n",
       "    <tr>\n",
       "      <th>3</th>\n",
       "      <td>/bestfitting</td>\n",
       "    </tr>\n",
       "    <tr>\n",
       "      <th>4</th>\n",
       "      <td>/mmueller</td>\n",
       "    </tr>\n",
       "  </tbody>\n",
       "</table>\n",
       "</div>"
      ],
      "text/plain": [
       "           urls\n",
       "0     /titericz\n",
       "1     /kazanova\n",
       "2       /stasg7\n",
       "3  /bestfitting\n",
       "4     /mmueller"
      ]
     },
     "execution_count": 7,
     "metadata": {},
     "output_type": "execute_result"
    }
   ],
   "source": [
    "urls1['urls'] = urls1['urls'].map(lambda x: str(x)[3:-3])\n",
    "urls1.head()"
   ]
  },
  {
   "cell_type": "code",
   "execution_count": 8,
   "metadata": {
    "collapsed": true
   },
   "outputs": [],
   "source": [
    "urls1['fullurl'] = 'https://www.kaggle.com' + urls1['urls']"
   ]
  },
  {
   "cell_type": "code",
   "execution_count": 9,
   "metadata": {
    "scrolled": true
   },
   "outputs": [
    {
     "data": {
      "text/html": [
       "<div>\n",
       "<style>\n",
       "    .dataframe thead tr:only-child th {\n",
       "        text-align: right;\n",
       "    }\n",
       "\n",
       "    .dataframe thead th {\n",
       "        text-align: left;\n",
       "    }\n",
       "\n",
       "    .dataframe tbody tr th {\n",
       "        vertical-align: top;\n",
       "    }\n",
       "</style>\n",
       "<table border=\"1\" class=\"dataframe\">\n",
       "  <thead>\n",
       "    <tr style=\"text-align: right;\">\n",
       "      <th></th>\n",
       "      <th>urls</th>\n",
       "      <th>fullurl</th>\n",
       "    </tr>\n",
       "  </thead>\n",
       "  <tbody>\n",
       "    <tr>\n",
       "      <th>0</th>\n",
       "      <td>/titericz</td>\n",
       "      <td>https://www.kaggle.com/titericz</td>\n",
       "    </tr>\n",
       "    <tr>\n",
       "      <th>1</th>\n",
       "      <td>/kazanova</td>\n",
       "      <td>https://www.kaggle.com/kazanova</td>\n",
       "    </tr>\n",
       "    <tr>\n",
       "      <th>2</th>\n",
       "      <td>/stasg7</td>\n",
       "      <td>https://www.kaggle.com/stasg7</td>\n",
       "    </tr>\n",
       "    <tr>\n",
       "      <th>3</th>\n",
       "      <td>/bestfitting</td>\n",
       "      <td>https://www.kaggle.com/bestfitting</td>\n",
       "    </tr>\n",
       "    <tr>\n",
       "      <th>4</th>\n",
       "      <td>/mmueller</td>\n",
       "      <td>https://www.kaggle.com/mmueller</td>\n",
       "    </tr>\n",
       "  </tbody>\n",
       "</table>\n",
       "</div>"
      ],
      "text/plain": [
       "           urls                             fullurl\n",
       "0     /titericz     https://www.kaggle.com/titericz\n",
       "1     /kazanova     https://www.kaggle.com/kazanova\n",
       "2       /stasg7       https://www.kaggle.com/stasg7\n",
       "3  /bestfitting  https://www.kaggle.com/bestfitting\n",
       "4     /mmueller     https://www.kaggle.com/mmueller"
      ]
     },
     "execution_count": 9,
     "metadata": {},
     "output_type": "execute_result"
    }
   ],
   "source": [
    "urls1.head()"
   ]
  },
  {
   "cell_type": "code",
   "execution_count": 10,
   "metadata": {},
   "outputs": [
    {
     "data": {
      "text/html": [
       "<div>\n",
       "<style>\n",
       "    .dataframe thead tr:only-child th {\n",
       "        text-align: right;\n",
       "    }\n",
       "\n",
       "    .dataframe thead th {\n",
       "        text-align: left;\n",
       "    }\n",
       "\n",
       "    .dataframe tbody tr th {\n",
       "        vertical-align: top;\n",
       "    }\n",
       "</style>\n",
       "<table border=\"1\" class=\"dataframe\">\n",
       "  <thead>\n",
       "    <tr style=\"text-align: right;\">\n",
       "      <th></th>\n",
       "      <th>fullurl</th>\n",
       "    </tr>\n",
       "  </thead>\n",
       "  <tbody>\n",
       "    <tr>\n",
       "      <th>0</th>\n",
       "      <td>https://www.kaggle.com/titericz</td>\n",
       "    </tr>\n",
       "    <tr>\n",
       "      <th>1</th>\n",
       "      <td>https://www.kaggle.com/kazanova</td>\n",
       "    </tr>\n",
       "    <tr>\n",
       "      <th>2</th>\n",
       "      <td>https://www.kaggle.com/stasg7</td>\n",
       "    </tr>\n",
       "    <tr>\n",
       "      <th>3</th>\n",
       "      <td>https://www.kaggle.com/bestfitting</td>\n",
       "    </tr>\n",
       "    <tr>\n",
       "      <th>4</th>\n",
       "      <td>https://www.kaggle.com/mmueller</td>\n",
       "    </tr>\n",
       "  </tbody>\n",
       "</table>\n",
       "</div>"
      ],
      "text/plain": [
       "                              fullurl\n",
       "0     https://www.kaggle.com/titericz\n",
       "1     https://www.kaggle.com/kazanova\n",
       "2       https://www.kaggle.com/stasg7\n",
       "3  https://www.kaggle.com/bestfitting\n",
       "4     https://www.kaggle.com/mmueller"
      ]
     },
     "execution_count": 10,
     "metadata": {},
     "output_type": "execute_result"
    }
   ],
   "source": [
    "urls2 = urls1[['fullurl']]\n",
    "urls2.head()"
   ]
  },
  {
   "cell_type": "code",
   "execution_count": 11,
   "metadata": {
    "collapsed": true
   },
   "outputs": [],
   "source": [
    "urls2.to_csv('top100.csv', index=False, header=False)"
   ]
  },
  {
   "cell_type": "code",
   "execution_count": null,
   "metadata": {
    "collapsed": true
   },
   "outputs": [],
   "source": []
  }
 ],
 "metadata": {
  "kernelspec": {
   "display_name": "Python [conda root]",
   "language": "python",
   "name": "conda-root-py"
  },
  "language_info": {
   "codemirror_mode": {
    "name": "ipython",
    "version": 3
   },
   "file_extension": ".py",
   "mimetype": "text/x-python",
   "name": "python",
   "nbconvert_exporter": "python",
   "pygments_lexer": "ipython3",
   "version": "3.6.2"
  }
 },
 "nbformat": 4,
 "nbformat_minor": 2
}
