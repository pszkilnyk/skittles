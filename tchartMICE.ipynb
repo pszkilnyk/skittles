{
 "cells": [
  {
   "cell_type": "code",
   "execution_count": 1,
   "metadata": {
    "collapsed": true
   },
   "outputs": [],
   "source": [
    "import pandas as pd\n",
    "import seaborn as sns\n",
    "import numpy as np\n",
    "import matplotlib.pyplot as plt \n",
    "%matplotlib inline "
   ]
  },
  {
   "cell_type": "code",
   "execution_count": 15,
   "metadata": {
    "collapsed": true
   },
   "outputs": [],
   "source": [
    "readingsImp=reading.select_dtypes(exclude=['object'])"
   ]
  },
  {
   "cell_type": "code",
   "execution_count": 16,
   "metadata": {
    "scrolled": true
   },
   "outputs": [
    {
     "name": "stderr",
     "output_type": "stream",
     "text": [
      "C:\\Users\\PAUL-PC\\Anaconda3\\lib\\site-packages\\h5py\\__init__.py:34: FutureWarning: Conversion of the second argument of issubdtype from `float` to `np.floating` is deprecated. In future, it will be treated as `np.float64 == np.dtype(float).type`.\n",
      "  from ._conv import register_converters as _register_converters\n",
      "Using TensorFlow backend.\n"
     ]
    },
    {
     "name": "stdout",
     "output_type": "stream",
     "text": [
      "[MICE] Completing matrix with shape (214985, 36)\n",
      "[MICE] Starting imputation round 1/110, elapsed time 0.077\n",
      "[MICE] Starting imputation round 2/110, elapsed time 0.388\n",
      "[MICE] Starting imputation round 3/110, elapsed time 0.703\n",
      "[MICE] Starting imputation round 4/110, elapsed time 1.006\n",
      "[MICE] Starting imputation round 5/110, elapsed time 1.314\n",
      "[MICE] Starting imputation round 6/110, elapsed time 1.635\n",
      "[MICE] Starting imputation round 7/110, elapsed time 1.950\n",
      "[MICE] Starting imputation round 8/110, elapsed time 2.256\n",
      "[MICE] Starting imputation round 9/110, elapsed time 2.569\n",
      "[MICE] Starting imputation round 10/110, elapsed time 2.870\n",
      "[MICE] Starting imputation round 11/110, elapsed time 3.170\n",
      "[MICE] Starting imputation round 12/110, elapsed time 3.482\n",
      "[MICE] Starting imputation round 13/110, elapsed time 3.808\n",
      "[MICE] Starting imputation round 14/110, elapsed time 4.177\n",
      "[MICE] Starting imputation round 15/110, elapsed time 4.487\n",
      "[MICE] Starting imputation round 16/110, elapsed time 4.797\n",
      "[MICE] Starting imputation round 17/110, elapsed time 5.110\n",
      "[MICE] Starting imputation round 18/110, elapsed time 5.414\n",
      "[MICE] Starting imputation round 19/110, elapsed time 5.718\n",
      "[MICE] Starting imputation round 20/110, elapsed time 6.039\n",
      "[MICE] Starting imputation round 21/110, elapsed time 6.347\n",
      "[MICE] Starting imputation round 22/110, elapsed time 6.657\n",
      "[MICE] Starting imputation round 23/110, elapsed time 6.968\n",
      "[MICE] Starting imputation round 24/110, elapsed time 7.284\n",
      "[MICE] Starting imputation round 25/110, elapsed time 7.602\n",
      "[MICE] Starting imputation round 26/110, elapsed time 7.951\n",
      "[MICE] Starting imputation round 27/110, elapsed time 8.300\n",
      "[MICE] Starting imputation round 28/110, elapsed time 8.624\n",
      "[MICE] Starting imputation round 29/110, elapsed time 8.924\n",
      "[MICE] Starting imputation round 30/110, elapsed time 9.230\n",
      "[MICE] Starting imputation round 31/110, elapsed time 9.531\n",
      "[MICE] Starting imputation round 32/110, elapsed time 9.840\n",
      "[MICE] Starting imputation round 33/110, elapsed time 10.159\n",
      "[MICE] Starting imputation round 34/110, elapsed time 10.455\n",
      "[MICE] Starting imputation round 35/110, elapsed time 10.762\n",
      "[MICE] Starting imputation round 36/110, elapsed time 11.073\n",
      "[MICE] Starting imputation round 37/110, elapsed time 11.377\n",
      "[MICE] Starting imputation round 38/110, elapsed time 11.683\n",
      "[MICE] Starting imputation round 39/110, elapsed time 11.984\n",
      "[MICE] Starting imputation round 40/110, elapsed time 12.290\n",
      "[MICE] Starting imputation round 41/110, elapsed time 12.592\n",
      "[MICE] Starting imputation round 42/110, elapsed time 12.888\n",
      "[MICE] Starting imputation round 43/110, elapsed time 13.200\n",
      "[MICE] Starting imputation round 44/110, elapsed time 13.509\n",
      "[MICE] Starting imputation round 45/110, elapsed time 13.807\n",
      "[MICE] Starting imputation round 46/110, elapsed time 14.111\n",
      "[MICE] Starting imputation round 47/110, elapsed time 14.411\n",
      "[MICE] Starting imputation round 48/110, elapsed time 14.713\n",
      "[MICE] Starting imputation round 49/110, elapsed time 15.027\n",
      "[MICE] Starting imputation round 50/110, elapsed time 15.335\n",
      "[MICE] Starting imputation round 51/110, elapsed time 15.641\n",
      "[MICE] Starting imputation round 52/110, elapsed time 15.939\n",
      "[MICE] Starting imputation round 53/110, elapsed time 16.254\n",
      "[MICE] Starting imputation round 54/110, elapsed time 16.554\n",
      "[MICE] Starting imputation round 55/110, elapsed time 16.861\n",
      "[MICE] Starting imputation round 56/110, elapsed time 17.169\n",
      "[MICE] Starting imputation round 57/110, elapsed time 17.473\n",
      "[MICE] Starting imputation round 58/110, elapsed time 17.772\n",
      "[MICE] Starting imputation round 59/110, elapsed time 18.078\n",
      "[MICE] Starting imputation round 60/110, elapsed time 18.382\n",
      "[MICE] Starting imputation round 61/110, elapsed time 18.697\n",
      "[MICE] Starting imputation round 62/110, elapsed time 19.009\n",
      "[MICE] Starting imputation round 63/110, elapsed time 19.308\n",
      "[MICE] Starting imputation round 64/110, elapsed time 19.615\n",
      "[MICE] Starting imputation round 65/110, elapsed time 19.921\n",
      "[MICE] Starting imputation round 66/110, elapsed time 20.223\n",
      "[MICE] Starting imputation round 67/110, elapsed time 20.521\n",
      "[MICE] Starting imputation round 68/110, elapsed time 20.822\n",
      "[MICE] Starting imputation round 69/110, elapsed time 21.126\n",
      "[MICE] Starting imputation round 70/110, elapsed time 21.436\n",
      "[MICE] Starting imputation round 71/110, elapsed time 21.737\n",
      "[MICE] Starting imputation round 72/110, elapsed time 22.047\n",
      "[MICE] Starting imputation round 73/110, elapsed time 22.351\n",
      "[MICE] Starting imputation round 74/110, elapsed time 22.649\n",
      "[MICE] Starting imputation round 75/110, elapsed time 22.949\n",
      "[MICE] Starting imputation round 76/110, elapsed time 23.261\n",
      "[MICE] Starting imputation round 77/110, elapsed time 23.563\n",
      "[MICE] Starting imputation round 78/110, elapsed time 23.868\n",
      "[MICE] Starting imputation round 79/110, elapsed time 24.171\n",
      "[MICE] Starting imputation round 80/110, elapsed time 24.481\n",
      "[MICE] Starting imputation round 81/110, elapsed time 24.789\n",
      "[MICE] Starting imputation round 82/110, elapsed time 25.101\n",
      "[MICE] Starting imputation round 83/110, elapsed time 25.409\n",
      "[MICE] Starting imputation round 84/110, elapsed time 25.735\n",
      "[MICE] Starting imputation round 85/110, elapsed time 26.051\n",
      "[MICE] Starting imputation round 86/110, elapsed time 26.354\n",
      "[MICE] Starting imputation round 87/110, elapsed time 26.663\n",
      "[MICE] Starting imputation round 88/110, elapsed time 26.969\n",
      "[MICE] Starting imputation round 89/110, elapsed time 27.268\n",
      "[MICE] Starting imputation round 90/110, elapsed time 27.570\n",
      "[MICE] Starting imputation round 91/110, elapsed time 27.870\n",
      "[MICE] Starting imputation round 92/110, elapsed time 28.189\n",
      "[MICE] Starting imputation round 93/110, elapsed time 28.493\n",
      "[MICE] Starting imputation round 94/110, elapsed time 28.794\n",
      "[MICE] Starting imputation round 95/110, elapsed time 29.100\n",
      "[MICE] Starting imputation round 96/110, elapsed time 29.398\n",
      "[MICE] Starting imputation round 97/110, elapsed time 29.703\n",
      "[MICE] Starting imputation round 98/110, elapsed time 30.006\n",
      "[MICE] Starting imputation round 99/110, elapsed time 30.311\n",
      "[MICE] Starting imputation round 100/110, elapsed time 30.614\n",
      "[MICE] Starting imputation round 101/110, elapsed time 30.914\n",
      "[MICE] Starting imputation round 102/110, elapsed time 31.223\n",
      "[MICE] Starting imputation round 103/110, elapsed time 31.522\n",
      "[MICE] Starting imputation round 104/110, elapsed time 31.829\n",
      "[MICE] Starting imputation round 105/110, elapsed time 32.132\n",
      "[MICE] Starting imputation round 106/110, elapsed time 32.438\n",
      "[MICE] Starting imputation round 107/110, elapsed time 32.749\n",
      "[MICE] Starting imputation round 108/110, elapsed time 33.055\n",
      "[MICE] Starting imputation round 109/110, elapsed time 33.359\n",
      "[MICE] Starting imputation round 110/110, elapsed time 33.671\n"
     ]
    }
   ],
   "source": [
    "from fancyimpute import MICE as mice\n",
    "readingsImp=pd.DataFrame(data=mice().complete(readingsImp), columns=readingsImp.columns, index=readingsImp.index)"
   ]
  },
  {
   "cell_type": "code",
   "execution_count": 17,
   "metadata": {
    "collapsed": true
   },
   "outputs": [],
   "source": [
    "readings=pd.merge(readingsImp, reading.select_dtypes(exclude=['float64', 'int64']), right_index=True, left_index=True, how = 'outer')"
   ]
  },
  {
   "cell_type": "code",
   "execution_count": null,
   "metadata": {
    "collapsed": true
   },
   "outputs": [],
   "source": []
  },
  {
   "cell_type": "code",
   "execution_count": null,
   "metadata": {
    "collapsed": true
   },
   "outputs": [],
   "source": []
  },
  {
   "cell_type": "code",
   "execution_count": 29,
   "metadata": {
    "scrolled": true
   },
   "outputs": [
    {
     "name": "stderr",
     "output_type": "stream",
     "text": [
      "C:\\Users\\PAUL-PC\\Anaconda3\\lib\\site-packages\\ipykernel\\__main__.py:2: SettingWithCopyWarning: \n",
      "A value is trying to be set on a copy of a slice from a DataFrame.\n",
      "Try using .loc[row_indexer,col_indexer] = value instead\n",
      "\n",
      "See the caveats in the documentation: http://pandas.pydata.org/pandas-docs/stable/indexing.html#indexing-view-versus-copy\n",
      "  from ipykernel import kernelapp as app\n",
      "C:\\Users\\PAUL-PC\\Anaconda3\\lib\\site-packages\\ipykernel\\__main__.py:3: SettingWithCopyWarning: \n",
      "A value is trying to be set on a copy of a slice from a DataFrame.\n",
      "Try using .loc[row_indexer,col_indexer] = value instead\n",
      "\n",
      "See the caveats in the documentation: http://pandas.pydata.org/pandas-docs/stable/indexing.html#indexing-view-versus-copy\n",
      "  app.launch_new_instance()\n"
     ]
    }
   ],
   "source": [
    "alarm58=alarm[alarm[''].isin([22858])]\n",
    "alarm58['delta'] = (alarm58['SetDate']-alarm58[''].shift()).fillna(0)\n",
    "alarm58['hours']=(alarm58.delta / np.timedelta64(1, 'h'))"
   ]
  },
  {
   "cell_type": "code",
   "execution_count": null,
   "metadata": {
    "collapsed": true,
    "scrolled": true
   },
   "outputs": [],
   "source": []
  },
  {
   "cell_type": "code",
   "execution_count": null,
   "metadata": {
    "collapsed": true
   },
   "outputs": [],
   "source": []
  },
  {
   "cell_type": "code",
   "execution_count": 32,
   "metadata": {},
   "outputs": [
    {
     "name": "stderr",
     "output_type": "stream",
     "text": [
      "C:\\Users\\PAUL-PC\\Anaconda3\\lib\\site-packages\\ipykernel\\__main__.py:2: SettingWithCopyWarning: \n",
      "A value is trying to be set on a copy of a slice from a DataFrame.\n",
      "Try using .loc[row_indexer,col_indexer] = value instead\n",
      "\n",
      "See the caveats in the documentation: http://pandas.pydata.org/pandas-docs/stable/indexing.html#indexing-view-versus-copy\n",
      "  from ipykernel import kernelapp as app\n",
      "C:\\Users\\PAUL-PC\\Anaconda3\\lib\\site-packages\\ipykernel\\__main__.py:3: SettingWithCopyWarning: \n",
      "A value is trying to be set on a copy of a slice from a DataFrame.\n",
      "Try using .loc[row_indexer,col_indexer] = value instead\n",
      "\n",
      "See the caveats in the documentation: http://pandas.pydata.org/pandas-docs/stable/indexing.html#indexing-view-versus-copy\n",
      "  app.launch_new_instance()\n"
     ]
    }
   ],
   "source": [
    "readings58=readings[readings[''].isin([22858])]\n",
    "readings58['delta'] = (readings58['']-readings58[''].shift()).fillna(0)\n",
    "readings58['hours']=(readings58.delta / np.timedelta64(1, 'h'))"
   ]
  },
  {
   "cell_type": "code",
   "execution_count": null,
   "metadata": {
    "collapsed": true
   },
   "outputs": [],
   "source": []
  },
  {
   "cell_type": "code",
   "execution_count": null,
   "metadata": {
    "collapsed": true
   },
   "outputs": [],
   "source": []
  },
  {
   "cell_type": "code",
   "execution_count": 42,
   "metadata": {
    "scrolled": true
   },
   "outputs": [
    {
     "data": {
      "image/png": "[encoded data removed]",
      "text/plain": [
       "<matplotlib.figure.Figure at 0x28f541b8ac8>"
      ]
     },
     "metadata": {},
     "output_type": "display_data"
    }
   ],
   "source": [
    "ax = readings58.plot(x='', y='hours', label='information')\n",
    "alarm58.plot(ax=ax, x='', y='hours', label='alarms')\n",
    "plt.title('22858')\n",
    "plt.xlabel('Date')\n",
    "plt.ylabel('Hours Between')\n",
    "#plt.show()\n",
    "plt.savefig(\"22858t__%d.png\"%i, dpi=300)"
   ]
  },
  {
   "cell_type": "code",
   "execution_count": null,
   "metadata": {
    "collapsed": true
   },
   "outputs": [],
   "source": []
  }
 ],
 "metadata": {
  "kernelspec": {
   "display_name": "Python [default]",
   "language": "python",
   "name": "python3"
  },
  "language_info": {
   "codemirror_mode": {
    "name": "ipython",
    "version": 3
   },
   "file_extension": ".py",
   "mimetype": "text/x-python",
   "name": "python",
   "nbconvert_exporter": "python",
   "pygments_lexer": "ipython3",
   "version": "3.6.2"
  }
 },
 "nbformat": 4,
 "nbformat_minor": 2
}
